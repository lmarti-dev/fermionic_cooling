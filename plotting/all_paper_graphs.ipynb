{
 "cells": [
  {
   "cell_type": "code",
   "execution_count": 3,
   "metadata": {},
   "outputs": [
    {
     "ename": "ModuleNotFoundError",
     "evalue": "No module named 'fermionic_cooling'",
     "output_type": "error",
     "traceback": [
      "\u001b[1;31m---------------------------------------------------------------------------\u001b[0m",
      "\u001b[1;31mModuleNotFoundError\u001b[0m                       Traceback (most recent call last)",
      "Cell \u001b[1;32mIn[3], line 12\u001b[0m\n\u001b[0;32m      9\u001b[0m \u001b[38;5;28;01mexcept\u001b[39;00m \u001b[38;5;167;01mException\u001b[39;00m:\n\u001b[0;32m     10\u001b[0m     plt\u001b[38;5;241m.\u001b[39mion()\n\u001b[1;32m---> 12\u001b[0m \u001b[38;5;28;01mfrom\u001b[39;00m \u001b[38;5;21;01mfermionic_cooling\u001b[39;00m\u001b[38;5;21;01m.\u001b[39;00m\u001b[38;5;21;01mcoolerClass\u001b[39;00m \u001b[38;5;28;01mimport\u001b[39;00m Cooler\n\u001b[0;32m     13\u001b[0m \u001b[38;5;28;01mfrom\u001b[39;00m \u001b[38;5;21;01mjson_extender\u001b[39;00m \u001b[38;5;28;01mimport\u001b[39;00m ExtendedJSONDecoder\n\u001b[0;32m     14\u001b[0m \u001b[38;5;28;01mfrom\u001b[39;00m \u001b[38;5;21;01mopenfermion\u001b[39;00m \u001b[38;5;28;01mimport\u001b[39;00m get_sparse_operator\n",
      "\u001b[1;31mModuleNotFoundError\u001b[0m: No module named 'fermionic_cooling'"
     ]
    }
   ],
   "source": [
    "import io\n",
    "import json\n",
    "import os\n",
    "\n",
    "import matplotlib.pyplot as plt\n",
    "\n",
    "try:\n",
    "    get_ipython().run_line_magic(\"matplotlib inline\")\n",
    "except Exception:\n",
    "    plt.ion()\n",
    "\n",
    "from fermionic_cooling.coolerClass import Cooler\n",
    "from json_extender import ExtendedJSONDecoder\n",
    "from openfermion import get_sparse_operator\n",
    "\n",
    "from data_manager import ExperimentDataManager\n",
    "from fauplotstyle.styler import use_style\n",
    "from fauvqe.models import FermiHubbardModel\n",
    "from fauvqe.utilities import jw_eigenspectrum_at_particle_number\n",
    "from fermionic_cooling.plotting.plot_comparison_adiabatic_preprocessing import (\n",
    "    plot_comparison_fast_sweep,\n",
    ")\n",
    "from fermionic_cooling.plotting.plot_each_coupler import plot_each_coupler_perf\n",
    "from fermionic_cooling.plotting.plot_fastsweep_m_fid import plot_fast_sweep_vs_m\n",
    "from fermionic_cooling.plotting.plot_thermal_state_decomposition import (\n",
    "    plot_amplitudes_vs_beta,\n",
    ")\n",
    "from fermionic_cooling.plotting.plot_thermalizing_vs_beta_init import (\n",
    "    afternoon_plot,\n",
    "    plot_single,\n",
    ")\n",
    "import numpy as np\n",
    "\n",
    "\n",
    "from fermionic_cooling.runs.encode_bogos_with_jw import plot_bogo_jw_coefficients\n",
    "\n",
    "\n",
    "def show_if_dry(dry_run: bool):\n",
    "    if dry_run:\n",
    "        plt.show()\n",
    "\n",
    "\n",
    "def get_spectrum(x, y, tunneling, coulomb, n_electrons):\n",
    "    model = FermiHubbardModel(\n",
    "        x_dimension=x, y_dimension=y, tunneling=tunneling, coulomb=coulomb\n",
    "    )\n",
    "    eig_energies, _ = jw_eigenspectrum_at_particle_number(\n",
    "        sparse_operator=get_sparse_operator(model.fock_hamiltonian),\n",
    "        particle_number=n_electrons,\n",
    "    )\n",
    "    return eig_energies\n",
    "\n",
    "\n",
    "def load_json(fpath: os.PathLike):\n",
    "    jobj = json.loads(\n",
    "        io.open(fpath, encoding=\"utf8\", mode=\"r\").read(),\n",
    "        cls=ExtendedJSONDecoder,\n",
    "    )\n",
    "    return jobj\n",
    "\n",
    "\n",
    "def load_controlled_cooling_data(fpath):\n",
    "    jobj = load_json(fpath)\n",
    "    omegas = jobj[\"omegas\"]\n",
    "    fidelities = jobj[\"fidelities\"]\n",
    "    env_energies = jobj[\"env_energies\"]\n",
    "    return omegas, fidelities, env_energies\n",
    "\n",
    "\n",
    "def controlled_cooling_load_plot(\n",
    "    edm, fpath, fig_filename, sys_eig_energies, tf_minus_val: int = None\n",
    "):\n",
    "    omegas, fidelities, env_energies = load_controlled_cooling_data(fpath)\n",
    "    if tf_minus_val is not None:\n",
    "        new_env_energies = np.array(env_energies[0]) - tf_minus_val\n",
    "        env_energies[0] = new_env_energies.astype(list)\n",
    "    fig = Cooler.plot_controlled_cooling(\n",
    "        fidelities=fidelities,\n",
    "        env_energies=env_energies,\n",
    "        omegas=omegas,\n",
    "        eigenspectrums=[sys_eig_energies - sys_eig_energies[0]],\n",
    "    )\n",
    "    edm.save_figure(fig, fig_filename, add_timestamp=False)\n",
    "\n",
    "\n"
   ]
  },
  {
   "cell_type": "code",
   "execution_count": null,
   "metadata": {},
   "outputs": [],
   "source": [
    "\n",
    "use_style()\n",
    "dry_run = False\n",
    "edm = ExperimentDataManager(\n",
    "    experiment_name=\"fermionic_cooling_paper_graphs\", dry_run=dry_run\n",
    ")\n"
   ]
  },
  {
   "cell_type": "markdown",
   "metadata": {},
   "source": [
    "## Thermal $\\beta$ sweep"
   ]
  },
  {
   "cell_type": "code",
   "execution_count": null,
   "metadata": {},
   "outputs": [],
   "source": [
    "\n",
    "\n",
    "# thermal_results_1by2\n",
    "dirnames = afternoon_plot()\n",
    "fig = plot_single(dirnames)\n",
    "plt.show()\n",
    "edm.save_figure(fig, \"thermal_results_1by2\", add_timestamp=False)\n",
    "\n"
   ]
  },
  {
   "cell_type": "markdown",
   "metadata": {},
   "source": [
    "## Nice cooling example"
   ]
  },
  {
   "cell_type": "code",
   "execution_count": null,
   "metadata": {},
   "outputs": [],
   "source": [
    "\n",
    "# nice cooling\n",
    "\n",
    "sys_eig_energies = get_spectrum(2, 2, 1, 2, [2, 2])\n",
    "\n",
    "jobj = {}\n",
    "\n",
    "fpath = r\"c:\\Users\\Moi4\\Desktop\\current\\FAU\\phd\\projects\\cooling_fermions\\graph_data\\fh_new_freecouplers_11h41\\run_00000\\data\\cooling_free_2024_02_27_13_50_01.json\"\n",
    "fig_filename = \"nice_cooling\"\n",
    "controlled_cooling_load_plot(edm, fpath, fig_filename, sys_eig_energies)\n",
    "plt.show()\n",
    "# 1e5 depol\n",
    "jobj[fig_filename] = fpath\n",
    "\n"
   ]
  },
  {
   "cell_type": "markdown",
   "metadata": {},
   "source": [
    "## Depolarization example"
   ]
  },
  {
   "cell_type": "code",
   "execution_count": null,
   "metadata": {},
   "outputs": [],
   "source": [
    "\n",
    "\n",
    "fpath = r\"c:\\Users\\Moi4\\Desktop\\current\\FAU\\phd\\projects\\cooling_fermions\\graph_data\\fh_new_freecouplers_13h58\\run_00000\\data\\cooling_free_2024_02_27_16_18_15.json\"\n",
    "fig_filename = \"depol_1e5\"\n",
    "controlled_cooling_load_plot(edm, fpath, fig_filename, sys_eig_energies)\n",
    "plt.show()\n",
    "\n"
   ]
  },
  {
   "cell_type": "markdown",
   "metadata": {},
   "source": [
    "## Fermion-conserving depolarization"
   ]
  },
  {
   "cell_type": "code",
   "execution_count": null,
   "metadata": {},
   "outputs": [],
   "source": [
    "\n",
    "\n",
    "# 1e5 fermion depol\n",
    "\n",
    "jobj[fig_filename] = fpath\n",
    "\n",
    "fpath = r\"c:\\Users\\Moi4\\Desktop\\current\\FAU\\phd\\projects\\cooling_fermions\\graph_data\\fh_new_freecouplers_17h41\\run_00000\\data\\cooling_free_2024_02_27_19_54_06.json\"\n",
    "fig_filename = \"depol_fermion_1e5\"\n",
    "controlled_cooling_load_plot(edm, fpath, fig_filename, sys_eig_energies)\n",
    "plt.show()\n",
    "\n",
    "jobj[fig_filename] = fpath\n"
   ]
  },
  {
   "cell_type": "markdown",
   "metadata": {},
   "source": [
    "## Controlled thermalization example"
   ]
  },
  {
   "cell_type": "code",
   "execution_count": null,
   "metadata": {},
   "outputs": [],
   "source": [
    "\n",
    "\n",
    "# controlled therm\n",
    "\n",
    "fpath = r\"c:\\Users\\Moi4\\Desktop\\current\\FAU\\phd\\projects\\cooling_fermions\\graph_data\\fh22_0_target_beta_11h04\\run_00000\\data\\cooling_free_2024_02_29_08_51_07.json\"\n",
    "fig_filename = \"bigbbrain_thermal\"\n",
    "controlled_cooling_load_plot(\n",
    "    edm, fpath, fig_filename, sys_eig_energies, tf_minus_val=0.5\n",
    ")\n",
    "plt.show()\n",
    "jobj[fig_filename] = fpath\n"
   ]
  },
  {
   "cell_type": "markdown",
   "metadata": {},
   "source": [
    "# Fast sweep performance in spectrum, Slater start"
   ]
  },
  {
   "cell_type": "code",
   "execution_count": null,
   "metadata": {},
   "outputs": [],
   "source": [
    "\n",
    "\n",
    "# fast sweep v m slater\n",
    "fpath = r\"c:\\Users\\Moi4\\Desktop\\current\\FAU\\phd\\projects\\cooling_fermions\\graph_data\\cooling_with_initial_adiab_sweep_slater_15h12\\run_00000\\data\"\n",
    "fig = plot_fast_sweep_vs_m(fpath, 0.49844239875687185)\n",
    "plt.show()\n",
    "edm.save_figure(fig, \"fast_sweep_vs_m_slater\", add_timestamp=False, fig_shape=\"half-y\")\n",
    "\n",
    "jobj[fig_filename] = fpath\n"
   ]
  },
  {
   "cell_type": "markdown",
   "metadata": {},
   "source": [
    "# Fast sweep performance in spectrum, coulomb start"
   ]
  },
  {
   "cell_type": "code",
   "execution_count": null,
   "metadata": {},
   "outputs": [],
   "source": [
    "\n",
    "\n",
    "# fast sweep v m coulomb\n",
    "fpath = r\"c:\\Users\\Moi4\\Desktop\\current\\FAU\\phd\\projects\\cooling_fermions\\graph_data\\cooling_with_initial_adiab_sweep_coulomb_17h20\\run_00000\\data\"\n",
    "fig = plot_fast_sweep_vs_m(fpath, 0.08333327548043287)\n",
    "plt.show()\n",
    "edm.save_figure(fig, \"fast_sweep_vs_m_coulomb\", add_timestamp=False, fig_shape=\"half-y\")\n",
    "\n",
    "jobj[fig_filename] = fpath\n"
   ]
  },
  {
   "cell_type": "markdown",
   "metadata": {},
   "source": [
    "## Single coupler performance"
   ]
  },
  {
   "cell_type": "code",
   "execution_count": null,
   "metadata": {},
   "outputs": [],
   "source": [
    "\n",
    "\n",
    "# each coupler\n",
    "fpath = r\"C:\\Users\\Moi4\\Desktop\\current\\FAU\\phd\\projects\\cooling_fermions\\graph_data\\fh22_oneatatime_09h25\"\n",
    "fig = plot_each_coupler_perf(fpath)\n",
    "plt.show()\n",
    "edm.save_figure(fig, \"plot_each_coupler_resonance\", add_timestamp=False)\n",
    "\n",
    "jobj[fig_filename] = fpath\n",
    "# preprocess_adiabsweep\n"
   ]
  },
  {
   "cell_type": "markdown",
   "metadata": {},
   "source": [
    "## Single comparison sweep"
   ]
  },
  {
   "cell_type": "code",
   "execution_count": null,
   "metadata": {},
   "outputs": [],
   "source": [
    "\n",
    "\n",
    "with_adiab = r\"c:\\Users\\Moi4\\Desktop\\current\\FAU\\phd\\projects\\cooling_fermions\\graph_data\\single_fast_sweep_run\\run_00000\\data\\cooling_free_adiabatic_2024_02_07_14_04_53.json\"\n",
    "wout_adiab = r\"c:\\Users\\Moi4\\Desktop\\current\\FAU\\phd\\projects\\cooling_fermions\\graph_data\\single_fast_sweep_run\\run_00000\\data\\cooling_free_none_2024_02_07_14_37_28.json\"\n",
    "fig_filename = \"fast_sweep_single_comp\"\n",
    "fig = plot_comparison_fast_sweep(\n",
    "    with_adiab=with_adiab, wout_adiab=wout_adiab, sys_eig_energies=sys_eig_energies\n",
    ")\n",
    "plt.show()\n",
    "edm.save_figure(fig, fig_filename, add_timestamp=False)\n",
    "\n",
    "jobj[fig_filename] = {\"with_adiab\": with_adiab, \"wout_adiab\": wout_adiab}\n",
    "\n"
   ]
  },
  {
   "cell_type": "markdown",
   "metadata": {},
   "source": [
    "## Bogoliubovs JW-encoded"
   ]
  },
  {
   "cell_type": "code",
   "execution_count": null,
   "metadata": {},
   "outputs": [],
   "source": [
    "\n",
    "\n",
    "# bogos\n",
    "\n",
    "\n",
    "fpath = r\"c:\\Users\\Moi4\\Desktop\\current\\FAU\\phd\\data\\2024_03_10\\jw_encode_bogos_coeff_2_2_2u_2d_15h36\\run_00000\\data\\carissa_00000_2024_03_10_15_38_50.json\"\n",
    "jobj = load_json(fpath)\n",
    "\n",
    "total_coefficients = jobj[\"total_coefficients\"]\n",
    "max_pauli_strs = jobj[\"max_pauli_strs\"]\n",
    "\n",
    "fig = plot_bogo_jw_coefficients(total_coefficients, max_pauli_strs)\n",
    "fig_filename = \"bogo_jw_coefficients\"\n",
    "edm.save_figure(fig, fig_filename, add_timestamp=False)\n",
    "\n",
    "jobj[fig_filename] = fpath\n",
    "\n"
   ]
  },
  {
   "cell_type": "markdown",
   "metadata": {},
   "source": [
    "## Fermi-Hubbard components"
   ]
  },
  {
   "cell_type": "code",
   "execution_count": null,
   "metadata": {},
   "outputs": [],
   "source": [
    "\n",
    "\n",
    "if dry_run:\n",
    "    n_steps = 10\n",
    "else:\n",
    "    n_steps = 200\n",
    "\n",
    "# fh_12_11_components_vs_beta\n",
    "\n",
    "fig = plot_amplitudes_vs_beta(2, 1, 1, 2, [1, 1], False, n_steps)\n",
    "fig_filename = \"fh_12_11_components_vs_beta\"\n",
    "plt.show()\n",
    "edm.save_figure(fig, fig_filename, add_timestamp=False)\n",
    "\n",
    "\n",
    "# fh22_22_components_vs_beta\n",
    "\n",
    "\n",
    "fig = plot_amplitudes_vs_beta(2, 2, 1, 2, [2, 2], False, n_steps)\n",
    "fig_filename = \"fh22_22_components_vs_beta\"\n",
    "plt.show()\n",
    "edm.save_figure(fig, fig_filename, add_timestamp=False)\n",
    "\n",
    "\n",
    "edm.save_dict_to_experiment(jobj)\n"
   ]
  }
 ],
 "metadata": {
  "kernelspec": {
   "display_name": "venv",
   "language": "python",
   "name": "python3"
  },
  "language_info": {
   "codemirror_mode": {
    "name": "ipython",
    "version": 3
   },
   "file_extension": ".py",
   "mimetype": "text/x-python",
   "name": "python",
   "nbconvert_exporter": "python",
   "pygments_lexer": "ipython3",
   "version": "3.10.11"
  }
 },
 "nbformat": 4,
 "nbformat_minor": 2
}
